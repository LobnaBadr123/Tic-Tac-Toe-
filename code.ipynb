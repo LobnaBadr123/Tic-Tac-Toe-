board=[[0,0,0],[0,0,0],[0,0,0]]

def win (alpha,player):
  conditions =(board[0][0]==alpha and board[0][1]==alpha and board[0][2]==alpha  , board[1][0]==alpha and board[1][1]==alpha and board[1][2]==alpha  , board[2][0]==alpha and board[2][1]==alpha and board[2][2]==alpha
              , board[0][0]==alpha and board[1][0]==alpha and board[2][0]==alpha  ,  board[0][1]==alpha and board[1][1]==alpha and board[2][1]==alpha  ,  board[0][2]==alpha and board[1][2]==alpha and board[2][2]==alpha ,
              board[0][0]==alpha and board[1][1]==alpha and board[2][2]==alpha , board[0][2]==alpha and board[1][1]==alpha and board[2][0]==alpha)
  
  if any (conditions):
    print ("you win "+ player)
    return True 


def check_end () :
  if all(elem != 0 for row in board for elem in row):
        print("Game over")



def player1 ():
  check_end()
  player1_r=int(input("please choose row ")) 
  player1_c =int(input("please choose column "))
  location =board[player1_r][player1_c]
  while True :
    if location != 0 :
      print("this location is taken please choose another one ")
      pass
    else:
      board[player1_r][player1_c]= "x"
      break  



def player2 ():
  check_end()
  player2_r=int(input("please choose row ")) 
  player2_c =int(input("please choose column "))
  location =board[player2_r][player2_c]
  while True :
    if location != 0 :
      print("this location is taken please choose another one ")
      pass
    else:
      board[player2_r][player2_c]= "o"
      break  


while True :
  for e in board :
    print(e)
  print ("player1 turn ")
  player1 ()
  if win("x","player1") == True :
    break
  else:  
    print("player 2 turn")
    player2()
    if win("o", "player2") == True :
      break

